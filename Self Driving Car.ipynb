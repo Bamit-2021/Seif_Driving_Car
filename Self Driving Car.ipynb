{
 "cells": [
  {
   "cell_type": "code",
   "execution_count": 1,
   "id": "f1d4e5b3",
   "metadata": {},
   "outputs": [],
   "source": [
    "import os\n",
    "from itertools import islice\n",
    "from scipy import pi\n",
    "import numpy as np"
   ]
  },
  {
   "cell_type": "code",
   "execution_count": 2,
   "id": "c7b383bd",
   "metadata": {},
   "outputs": [],
   "source": [
    "DATA_FOLDER= 'C:/Users/B.Amit Kumar Patro/Documents/ML PROJECT/1Stop/Self Driving Car/Autopilot-TensorFlow-master/driving_dataset'\n",
    "TRAIN_FILE = os.path.join(DATA_FOLDER,'data.txt')\n",
    "LIMIT = None"
   ]
  },
  {
   "cell_type": "code",
   "execution_count": 3,
   "id": "4a035429",
   "metadata": {},
   "outputs": [],
   "source": [
    "split = 0.0\n",
    "x=[]\n",
    "y=[]"
   ]
  },
  {
   "cell_type": "code",
   "execution_count": 4,
   "id": "01c88af8",
   "metadata": {},
   "outputs": [],
   "source": [
    "with open(TRAIN_FILE) as fp:\n",
    "    for line in islice(fp,LIMIT):\n",
    "        path, angle = line.strip().split()\n",
    "        full_path = os.path.join(DATA_FOLDER ,path)\n",
    "        x.append(full_path)\n",
    "        y.append(float(angle)*pi/100)\n",
    "y = np.array(y)"
   ]
  },
  {
   "cell_type": "code",
   "execution_count": 5,
   "id": "4d7b1a07",
   "metadata": {},
   "outputs": [],
   "source": [
    "#split the dataset\n",
    "split_index = int(len(y)*0.8)"
   ]
  },
  {
   "cell_type": "code",
   "execution_count": 6,
   "id": "546af92b",
   "metadata": {},
   "outputs": [],
   "source": [
    "train_y = y[:split_index]"
   ]
  },
  {
   "cell_type": "code",
   "execution_count": 7,
   "id": "c8759a50",
   "metadata": {},
   "outputs": [],
   "source": [
    "test_y = y[split_index:]"
   ]
  },
  {
   "cell_type": "code",
   "execution_count": 8,
   "id": "406f363f",
   "metadata": {},
   "outputs": [
    {
     "data": {
      "text/plain": [
       "(array([5.200e+01, 1.600e+01, 2.900e+01, 1.270e+02, 9.400e+01, 1.770e+02,\n",
       "        4.920e+02, 2.550e+02, 6.840e+02, 9.270e+02, 5.439e+03, 1.660e+04,\n",
       "        6.513e+03, 2.538e+03, 7.510e+02, 5.250e+02, 3.090e+02, 1.640e+02,\n",
       "        1.400e+02, 7.600e+01, 2.400e+01, 2.700e+01, 3.300e+01, 4.300e+01,\n",
       "        5.100e+01, 4.700e+01, 5.400e+01, 3.600e+01, 3.800e+01, 1.400e+01,\n",
       "        8.000e+00, 1.000e+01, 1.000e+00, 2.000e+00, 2.000e+00, 2.000e+00,\n",
       "        2.000e+00, 1.000e+00, 0.000e+00, 2.000e+00, 1.000e+00, 1.000e+00,\n",
       "        2.000e+00, 1.000e+00, 2.000e+00, 2.000e+00, 2.000e+00, 1.000e+00,\n",
       "        2.000e+00, 5.000e+00]),\n",
       " array([-4.80255269, -4.39122396, -3.97989524, -3.56856651, -3.15723779,\n",
       "        -2.74590906, -2.33458033, -1.92325161, -1.51192288, -1.10059415,\n",
       "        -0.68926543, -0.2779367 ,  0.13339202,  0.54472075,  0.95604948,\n",
       "         1.3673782 ,  1.77870693,  2.19003565,  2.60136438,  3.01269311,\n",
       "         3.42402183,  3.83535056,  4.24667929,  4.65800801,  5.06933674,\n",
       "         5.48066546,  5.89199419,  6.30332292,  6.71465164,  7.12598037,\n",
       "         7.53730909,  7.94863782,  8.35996655,  8.77129527,  9.182624  ,\n",
       "         9.59395273, 10.00528145, 10.41661018, 10.8279389 , 11.23926763,\n",
       "        11.65059636, 12.06192508, 12.47325381, 12.88458253, 13.29591126,\n",
       "        13.70723999, 14.11856871, 14.52989744, 14.94122616, 15.35255489,\n",
       "        15.76388362]),\n",
       " [<matplotlib.patches.Polygon at 0x2f269868610>])"
      ]
     },
     "execution_count": 8,
     "metadata": {},
     "output_type": "execute_result"
    },
    {
     "data": {
      "image/png": "[encoded data removed]",
      "text/plain": [
       "<Figure size 432x288 with 1 Axes>"
      ]
     },
     "metadata": {
      "needs_background": "light"
     },
     "output_type": "display_data"
    }
   ],
   "source": [
    "import matplotlib.pyplot as plt\n",
    "plt.hist(train_y,bins = 50, color = \"red\", histtype = 'step')\n",
    "# plt.hist(test_y,bins = 50, color = \"blue\", histtype = 'step')"
   ]
  },
  {
   "cell_type": "code",
   "execution_count": 9,
   "id": "ed52d766",
   "metadata": {},
   "outputs": [
    {
     "data": {
      "text/plain": [
       "(array([  26.,   12.,   23.,   23.,   16.,   25.,    7.,    4.,    7.,\n",
       "           3.,    3.,    5.,    4.,    4.,    4.,    5.,    5.,   17.,\n",
       "          18.,   21.,   67.,   41.,   17.,   19.,   15.,   15.,   16.,\n",
       "          24.,   25.,  152.,  280.,  126.,  325.,  759., 2609.,  944.,\n",
       "        1806.,  727.,  245.,  258.,  132.,   30.,   20.,   53.,   75.,\n",
       "          46.,    6.,    4.,    5.,    9.]),\n",
       " array([-5.02434913, -4.87773728, -4.73112544, -4.58451359, -4.43790175,\n",
       "        -4.2912899 , -4.14467806, -3.99806621, -3.85145436, -3.70484252,\n",
       "        -3.55823067, -3.41161883, -3.26500698, -3.11839513, -2.97178329,\n",
       "        -2.82517144, -2.6785596 , -2.53194775, -2.3853359 , -2.23872406,\n",
       "        -2.09211221, -1.94550037, -1.79888852, -1.65227667, -1.50566483,\n",
       "        -1.35905298, -1.21244114, -1.06582929, -0.91921744, -0.7726056 ,\n",
       "        -0.62599375, -0.47938191, -0.33277006, -0.18615821, -0.03954637,\n",
       "         0.10706548,  0.25367732,  0.40028917,  0.54690102,  0.69351286,\n",
       "         0.84012471,  0.98673655,  1.1333484 ,  1.27996025,  1.42657209,\n",
       "         1.57318394,  1.71979578,  1.86640763,  2.01301948,  2.15963132,\n",
       "         2.30624317]),\n",
       " [<matplotlib.patches.Polygon at 0x2f269801a60>])"
      ]
     },
     "execution_count": 9,
     "metadata": {},
     "output_type": "execute_result"
    },
    {
     "data": {
      "image/png": "[encoded data removed]",
      "text/plain": [
       "<Figure size 432x288 with 1 Axes>"
      ]
     },
     "metadata": {
      "needs_background": "light"
     },
     "output_type": "display_data"
    }
   ],
   "source": [
    "plt.hist(test_y,bins = 50, color = \"blue\", histtype = 'step')"
   ]
  },
  {
   "cell_type": "code",
   "execution_count": 10,
   "id": "5c51ffdd",
   "metadata": {},
   "outputs": [],
   "source": [
    "train_mean_y = np.mean(train_y)\n",
    "train_mean_y = np.mean(test_y)"
   ]
  },
  {
   "cell_type": "code",
   "execution_count": 11,
   "id": "0fb31c39",
   "metadata": {},
   "outputs": [
    {
     "data": {
      "text/plain": [
       "0.6178617570749664"
      ]
     },
     "execution_count": 11,
     "metadata": {},
     "output_type": "execute_result"
    }
   ],
   "source": [
    "np.mean(np.square(test_y - train_mean_y))"
   ]
  },
  {
   "cell_type": "code",
   "execution_count": 12,
   "id": "4ac96ca9",
   "metadata": {},
   "outputs": [
    {
     "data": {
      "text/plain": [
       "0.6184869809073972"
      ]
     },
     "execution_count": 12,
     "metadata": {},
     "output_type": "execute_result"
    }
   ],
   "source": [
    "np.mean(np.square(test_y - 0.0))"
   ]
  },
  {
   "cell_type": "code",
   "execution_count": null,
   "id": "315841e1",
   "metadata": {},
   "outputs": [],
   "source": []
  }
 ],
 "metadata": {
  "kernelspec": {
   "display_name": "Python 3",
   "language": "python",
   "name": "python3"
  },
  "language_info": {
   "codemirror_mode": {
    "name": "ipython",
    "version": 3
   },
   "file_extension": ".py",
   "mimetype": "text/x-python",
   "name": "python",
   "nbconvert_exporter": "python",
   "pygments_lexer": "ipython3",
   "version": "3.8.8"
  }
 },
 "nbformat": 4,
 "nbformat_minor": 5
}
